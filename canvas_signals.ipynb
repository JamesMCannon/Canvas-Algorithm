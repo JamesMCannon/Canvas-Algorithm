{
 "metadata": {
  "language_info": {
   "codemirror_mode": {
    "name": "ipython",
    "version": 3
   },
   "file_extension": ".py",
   "mimetype": "text/x-python",
   "name": "python",
   "nbconvert_exporter": "python",
   "pygments_lexer": "ipython3",
   "version": "3.6.9-final"
  },
  "orig_nbformat": 2,
  "kernelspec": {
   "name": "python36964bitenvscratchesvenv7dabfd8d36f1470297c426fde28373f1",
   "display_name": "Python 3.6.9 64-bit ('env-scratches': venv)"
  }
 },
 "nbformat": 4,
 "nbformat_minor": 2,
 "cells": [
  {
   "source": [
    "import numpy as np\n",
    "import matplotlib.pyplot as plt\n",
    "import scipy, scipy.signal\n",
    "\n",
    "# from scipy.signal import butter, lfilter\n",
    "# from santolik_methods import santolik_Q, appleton_hartree, ne_ps, gen_rotation_matrix\n",
    "from santolik_methods import gen_td_whistler, santolik_Q"
   ],
   "cell_type": "code",
   "metadata": {},
   "execution_count": 5,
   "outputs": []
  },
  {
   "cell_type": "code",
   "execution_count": 6,
   "metadata": {},
   "outputs": [],
   "source": [
    "# import constants\n",
    "c = 2.998e8 # m/s \n",
    "D2R = np.pi/180.\n",
    "R2D = 180./np.pi\n",
    "Hz2Rad = 2.*np.pi\n",
    "Rad2Hz = 1./Hz2Rad\n",
    "Q_EL = 1.602e-19\n",
    "M_EL = 9.1e-31\n",
    "eo   = 8.854e-12\n",
    "B0   = 30e-6\n",
    "mu   = 4.0*np.pi*10e-7"
   ]
  },
  {
   "cell_type": "code",
   "execution_count": 8,
   "metadata": {},
   "outputs": [],
   "source": [
    "def plot_td(ex, ey, ez, bx, by, bz, fs):\n",
    "    tvec = np.arange(0,len(ex),1)/fs\n",
    "    fig, ax = plt.subplots(3,2, sharex=True, sharey='col')\n",
    "    ax[0,0].plot(tvec, ex)\n",
    "    ax[1,0].plot(tvec, ey)\n",
    "    ax[2,0].plot(tvec, ez)\n",
    "    ax[0,1].plot(tvec, bx)\n",
    "    ax[1,1].plot(tvec, by)\n",
    "    ax[2,1].plot(tvec, bz)\n",
    "    fig.autofmt_xdate()\n",
    "    fig.tight_layout()\n",
    "    ax[0,0].set_title('E')\n",
    "    ax[0,1].set_title('B')\n",
    "def plot_spec(ex, ey, ez, bx, by, bz, fs, E_clims = [-12, -4], B_clims = [-20, -15]):\n",
    "    # --------------- Latex Plot Beautification --------------------------\n",
    "    fig_width = 8\n",
    "    fig_height = 6\n",
    "    fig_size =  [fig_width+1,fig_height+1]\n",
    "    params = {'backend': 'ps',\n",
    "              'axes.labelsize': 12,\n",
    "              'font.size': 12,\n",
    "              'legend.fontsize': 10,\n",
    "              'xtick.labelsize': 12,\n",
    "              'ytick.labelsize': 12,\n",
    "              'text.usetex': False,\n",
    "              'figure.figsize': fig_size}\n",
    "    plt.rcParams.update(params)\n",
    "    # --------------- Latex Plot Beautification --------------------------\n",
    "    fig, ax = plt.subplots(3,2,sharex=True,sharey=True)\n",
    "\n",
    "    # evec = [ex,ey,ez]\n",
    "    # bvec = [bx,by,bz]\n",
    "    window = 'hanning'\n",
    "    nfft = 128\n",
    "    overlap = 0.5\n",
    "    c = 2.998e8\n",
    "    shading = 'flat'\n",
    "#         shading = 'gouraud'\n",
    "    # Get spectra\n",
    "    ff,tt, FBx = scipy.signal.spectrogram(bx, fs=fs, window=window, nperseg=nfft, noverlap=nfft*overlap,mode='complex')\n",
    "    ff,tt, FBy = scipy.signal.spectrogram(by, fs=fs, window=window, nperseg=nfft, noverlap=nfft*overlap,mode='complex')\n",
    "    ff,tt, FBz = scipy.signal.spectrogram(bz, fs=fs, window=window, nperseg=nfft, noverlap=nfft*overlap,mode='complex')\n",
    "\n",
    "    ff,tt, FEx = scipy.signal.spectrogram(1e-3*ex, fs=fs, window=window, nperseg=nfft, noverlap=nfft*overlap,mode='complex')\n",
    "    ff,tt, FEy = scipy.signal.spectrogram(1e-3*ey, fs=fs, window=window, nperseg=nfft, noverlap=nfft*overlap,mode='complex')\n",
    "    ff,tt, FEz = scipy.signal.spectrogram(1e-3*ez, fs=fs, window=window, nperseg=nfft, noverlap=nfft*overlap,mode='complex')\n",
    "\n",
    "    S_mag = np.sqrt(np.real(FEx*np.conj(FEx)))\n",
    "#     print(np.min(S_mag), np.max(S_mag))\n",
    "    p = ax[0,0].pcolormesh(tt,ff, np.log10(S_mag), cmap = plt.cm.jet,vmin=E_clims[0],vmax=E_clims[1],shading=shading)\n",
    "    S_mag = np.sqrt(np.real(FEy*np.conj(FEy)))\n",
    "#     print(np.min(S_mag), np.max(S_mag))\n",
    "    p = ax[1,0].pcolormesh(tt,ff, np.log10(S_mag), cmap = plt.cm.jet,vmin=E_clims[0],vmax=E_clims[1],shading=shading)\n",
    "    # S_mag = np.real(newEz*np.conj(newEz))\n",
    "    S_mag = np.sqrt(np.real(FEz*np.conj(FEz)))\n",
    "#     print(np.min(S_mag), np.max(S_mag))\n",
    "    p = ax[2,0].pcolormesh(tt,ff, np.log10(S_mag), cmap = plt.cm.jet,vmin=E_clims[0],vmax=E_clims[1],shading=shading)\n",
    "\n",
    "    S_mag = np.sqrt(np.real(FBx*np.conj(FBx)))\n",
    "#     print(np.min(S_mag), np.max(S_mag))\n",
    "    p = ax[0,1].pcolormesh(tt,ff, np.log10(S_mag), cmap = plt.cm.jet,vmin=B_clims[0],vmax=B_clims[1],shading=shading)\n",
    "    S_mag = np.sqrt(np.real(FBy*np.conj(FBy)))\n",
    "#     print(np.min(S_mag), np.max(S_mag))\n",
    "    p = ax[1,1].pcolormesh(tt,ff, np.log10(S_mag), cmap = plt.cm.jet,vmin=B_clims[0],vmax=B_clims[1],shading=shading)\n",
    "    S_mag = np.sqrt(np.real(FBz*np.conj(FBz)))\n",
    "#     print(np.min(S_mag), np.max(S_mag))\n",
    "    p = ax[2,1].pcolormesh(tt,ff, np.log10(S_mag), cmap = plt.cm.jet,vmin=B_clims[0],vmax=B_clims[1],shading='gouraud')\n",
    "\n",
    "    ax[0,0].set_ylim([0,fs/2])\n",
    "    ax[0,0].set_title('E')\n",
    "    ax[0,1].set_title('B')\n",
    "    ax[0,0].set_ylabel('X\\nfrequency [hz]')\n",
    "    ax[1,0].set_ylabel('Y\\nfrequency [hz]')\n",
    "    ax[2,0].set_ylabel('Z\\nfrequency [hz]')\n",
    "    ax[2,0].set_xlabel('Time [sec]')\n",
    "\n",
    "    return fig\n"
   ]
  },
  {
   "cell_type": "code",
   "execution_count": 9,
   "metadata": {},
   "outputs": [],
   "source": [
    "tmax = 0.5 # 0.2 # seconds\n",
    "fs = 131072 # 2^17 (next power of 2 above 100kHz)\n",
    "\n",
    "Lshell = 1.3\n",
    "D = 5#2\n",
    "theta = 40*D2R\n",
    "phi = -45*D2R\n",
    "pol_angle = 0\n",
    "E_mag = 1\n",
    "\n",
    "whistler_highcut = 40000\n",
    "ex, ey, ez, bx, by, bz = gen_td_whistler(Lshell, D, theta, phi, pol_angle, tmax, fs, highcut=whistler_highcut,\n",
    "                                         E_mag = 10e-3, e_noise_mag=1e-5, b_noise_mag = 1e-15)\n",
    "print(ex)"
   ]
  },
  {
   "cell_type": "code",
   "execution_count": 14,
   "metadata": {},
   "outputs": [
    {
     "output_type": "error",
     "ename": "AttributeError",
     "evalue": "'NoneType' object has no attribute 'show'",
     "traceback": [
      "\u001b[0;31m---------------------------------------------------------------------------\u001b[0m",
      "\u001b[0;31mAttributeError\u001b[0m                            Traceback (most recent call last)",
      "\u001b[0;32m<ipython-input-14-ee4a18243d90>\u001b[0m in \u001b[0;36m<module>\u001b[0;34m\u001b[0m\n\u001b[1;32m      6\u001b[0m \u001b[0mfig\u001b[0m\u001b[0;34m.\u001b[0m\u001b[0msavefig\u001b[0m\u001b[0;34m(\u001b[0m\u001b[0;34m'whistler_spec.png'\u001b[0m\u001b[0;34m)\u001b[0m\u001b[0;34m\u001b[0m\u001b[0;34m\u001b[0m\u001b[0m\n\u001b[1;32m      7\u001b[0m \u001b[0mfig\u001b[0m \u001b[0;34m=\u001b[0m \u001b[0mplot_td\u001b[0m\u001b[0;34m(\u001b[0m\u001b[0mex\u001b[0m\u001b[0;34m,\u001b[0m \u001b[0mey\u001b[0m\u001b[0;34m,\u001b[0m \u001b[0mez\u001b[0m\u001b[0;34m,\u001b[0m \u001b[0mbz\u001b[0m\u001b[0;34m,\u001b[0m \u001b[0mby\u001b[0m\u001b[0;34m,\u001b[0m \u001b[0mbz\u001b[0m\u001b[0;34m,\u001b[0m \u001b[0mfs\u001b[0m\u001b[0;34m)\u001b[0m\u001b[0;34m\u001b[0m\u001b[0;34m\u001b[0m\u001b[0m\n\u001b[0;32m----> 8\u001b[0;31m \u001b[0mfig\u001b[0m\u001b[0;34m.\u001b[0m\u001b[0mshow\u001b[0m\u001b[0;34m(\u001b[0m\u001b[0;34m)\u001b[0m\u001b[0;34m\u001b[0m\u001b[0;34m\u001b[0m\u001b[0m\n\u001b[0m",
      "\u001b[0;31mAttributeError\u001b[0m: 'NoneType' object has no attribute 'show'"
     ]
    }
   ],
   "source": [
    "\n",
    "# plot_td(tvec, ex, ey, ez, bx, by, bz)\n",
    "# plot_spec(ex, ey, ez, bx, by, bz, fs)\n",
    "\n",
    "fig = plot_spec(ex, ey, ez, bx, by, bz, fs)\n",
    "fig.suptitle(r'Synthesized Whistler: L = {0:g}, D = {1:d}, $\\theta$={2:g}, $\\phi$={3:g}'.format(Lshell, D, R2D*theta, R2D*phi))\n",
    "fig.savefig('whistler_spec.png')\n",
    "fig = plot_td(ex, ey, ez, bz, by, bz, fs)\n",
    "plt.show()"
   ]
  },
  {
   "cell_type": "code",
   "execution_count": null,
   "metadata": {},
   "outputs": [],
   "source": []
  }
 ]
}