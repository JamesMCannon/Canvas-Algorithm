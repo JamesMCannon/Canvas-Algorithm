{
 "metadata": {
  "language_info": {
   "codemirror_mode": {
    "name": "ipython",
    "version": 3
   },
   "file_extension": ".py",
   "mimetype": "text/x-python",
   "name": "python",
   "nbconvert_exporter": "python",
   "pygments_lexer": "ipython3",
   "version": "3.8.3-final"
  },
  "orig_nbformat": 2,
  "kernelspec": {
   "name": "Python 3.8.3 64-bit",
   "display_name": "Python 3.8.3 64-bit",
   "metadata": {
    "interpreter": {
     "hash": "1ee38ef4a5a9feb55287fd749643f13d043cb0a7addaab2a9c224cbe137c0062"
    }
   }
  }
 },
 "nbformat": 4,
 "nbformat_minor": 2,
 "cells": [
  {
   "cell_type": "code",
   "execution_count": 36,
   "metadata": {},
   "outputs": [],
   "source": [
    "# import statements\n",
    "import numpy as np\n",
    "import matplotlib.pyplot as plt\n",
    "import scipy, scipy.signal\n",
    "from scipy.io import loadmat\n",
    "import os\n",
    "import pandas as pd\n",
    "import datetime as dt\n",
    " \n",
    "# import constants\n",
    "c = 2.998e8 # m/s \n",
    "D2R = np.pi/180.\n",
    "R2D = 180./np.pi\n",
    "Hz2Rad = 2.*np.pi\n",
    "Rad2Hz = 1./Hz2Rad\n",
    "Q_EL = 1.602e-19\n",
    "M_EL = 9.1e-31\n",
    "eo   = 8.854e-12\n",
    "B0   = 30e-6\n",
    "mu   = 4.0*np.pi*10e-7"
   ]
  },
  {
   "cell_type": "code",
   "execution_count": 42,
   "metadata": {},
   "outputs": [
    {
     "output_type": "error",
     "ename": "TypeError",
     "evalue": "to_datetime() missing 1 required positional argument: 'arg'",
     "traceback": [
      "\u001b[0;31m---------------------------------------------------------------------------\u001b[0m",
      "\u001b[0;31mTypeError\u001b[0m                                 Traceback (most recent call last)",
      "\u001b[0;32m<ipython-input-42-1f3062138464>\u001b[0m in \u001b[0;36m<module>\u001b[0;34m\u001b[0m\n\u001b[1;32m     26\u001b[0m \u001b[0mdata_dt_vec\u001b[0m  \u001b[0;34m=\u001b[0m \u001b[0;34m[\u001b[0m\u001b[0mdata_start\u001b[0m\u001b[0;34m+\u001b[0m\u001b[0;34m(\u001b[0m\u001b[0mdata_dt\u001b[0m\u001b[0;34m*\u001b[0m\u001b[0;34m(\u001b[0m\u001b[0mi\u001b[0m\u001b[0;34m+\u001b[0m\u001b[0;36m1\u001b[0m\u001b[0;34m)\u001b[0m\u001b[0;34m)\u001b[0m \u001b[0;32mfor\u001b[0m \u001b[0mi\u001b[0m\u001b[0;34m,\u001b[0m \u001b[0mi_data\u001b[0m \u001b[0;32min\u001b[0m \u001b[0menumerate\u001b[0m\u001b[0;34m(\u001b[0m\u001b[0mbx_data\u001b[0m\u001b[0;34m)\u001b[0m\u001b[0;34m]\u001b[0m\u001b[0;34m\u001b[0m\u001b[0;34m\u001b[0m\u001b[0m\n\u001b[1;32m     27\u001b[0m \u001b[0mprint\u001b[0m\u001b[0;34m(\u001b[0m\u001b[0mdata_dt_vec\u001b[0m\u001b[0;34m)\u001b[0m\u001b[0;34m\u001b[0m\u001b[0;34m\u001b[0m\u001b[0m\n\u001b[0;32m---> 28\u001b[0;31m \u001b[0mpd\u001b[0m\u001b[0;34m.\u001b[0m\u001b[0mto_datetime\u001b[0m\u001b[0;34m(\u001b[0m\u001b[0;34m)\u001b[0m\u001b[0;34m\u001b[0m\u001b[0;34m\u001b[0m\u001b[0m\n\u001b[0m\u001b[1;32m     29\u001b[0m \u001b[0mdf\u001b[0m \u001b[0;34m=\u001b[0m \u001b[0mpd\u001b[0m\u001b[0;34m.\u001b[0m\u001b[0mDataFrame\u001b[0m\u001b[0;34m(\u001b[0m\u001b[0mdata\u001b[0m\u001b[0;34m=\u001b[0m\u001b[0md\u001b[0m\u001b[0;34m)\u001b[0m\u001b[0;34m\u001b[0m\u001b[0;34m\u001b[0m\u001b[0m\n\u001b[1;32m     30\u001b[0m \u001b[0mupsampled\u001b[0m \u001b[0;34m=\u001b[0m \u001b[0mseries\u001b[0m\u001b[0;34m.\u001b[0m\u001b[0mresample\u001b[0m\u001b[0;34m(\u001b[0m\u001b[0;34m'D'\u001b[0m\u001b[0;34m)\u001b[0m\u001b[0;34m\u001b[0m\u001b[0;34m\u001b[0m\u001b[0m\n",
      "\u001b[0;31mTypeError\u001b[0m: to_datetime() missing 1 required positional argument: 'arg'"
     ]
    }
   ],
   "source": [
    "# import input data from VLF on table mtn\n",
    "datadir = 'vlf_data'\n",
    "datafiles = [f for f in os.listdir(datadir) if os.path.isfile(os.path.join(datadir, f))]\n",
    "\n",
    "# x data is the 000.mat file \n",
    "for dfile in datafiles:\n",
    "    if dfile[-5] == '0':\n",
    "        bx_datafile = os.path.join(datadir, dfile)\n",
    "    else:\n",
    "        by_datafile = os.path.join(datadir, dfile)\n",
    "\n",
    "# load mat files\n",
    "bx_data = loadmat(bx_datafile)\n",
    "by_data = loadmat(by_datafile)\n",
    "\n",
    "# grab start time\n",
    "data_start = dt.datetime(int(bx_data['start_year']), int(bx_data['start_month']), int(bx_data['start_day']), int(bx_data['start_hour']), int(bx_data['start_minute']), int(bx_data['start_second']))\n",
    "\n",
    "# get data -- 10 min of data? \n",
    "bx_data = bx_data['data']\n",
    "by_data = by_data['data']\n",
    "\n",
    "# create a timevec for the data\n",
    "data_dt = 100e3 / len(bx_data)\n",
    "data_dt = dt.timedelta(microseconds=data_dt*1e6) # convert time int in data to microseconds\n",
    "data_dt_vec  = [data_start+(data_dt*(i+1)) for i, i_data in enumerate(bx_data)]\n",
    "\n",
    "# convert to a dataframe\n",
    "data_dt_vec = pd.to_datetime(data_dt_vec)\n",
    "d_bx = {'time': data_dt_vec, 'data': bx_data}\n",
    "d_by = {'time': data_dt_vec, 'data': by_data}\n",
    "\n",
    "df_bx = pd.DataFrame(d_bx)\n",
    "df_by = pd.DataFrame(d_by)\n",
    "\n",
    "# data is 100kHz, but canvas sampling is 2^17 (131072 Hz) -- resample data\n",
    "# use pandas resampling func to resample an interpolate - using polynomial order 2\n",
    "upsampled = series.resample('D')\n",
    "interpolated = upsampled.interpolate(method='spline', order=2)\n",
    "\n",
    "# finally, convert to 16 bit int for input time series data\n",
    "bx_array = np.array()\n",
    "by_array = np.array()\n",
    "\n",
    "bx_list = [np.int16(bxi) for bxi in bx_data]\n",
    "bx_list = [np.int16(bxi) for bxi in bx_data]\n",
    "\n",
    "bx = np.array(bx_list)\n",
    "by = np.array(by_list)\n",
    "# ---------------- checkpoint -------------"
   ]
  },
  {
   "cell_type": "code",
   "execution_count": null,
   "metadata": {},
   "outputs": [],
   "source": [
    "# 2048-point FFTs with 1024-point overlap, and accumulate for 1 second\n",
    "window = 'hanning'\n",
    "nfft = 2048\n",
    "overlap = 0.5\n",
    "\n",
    "# for a spectra\n",
    "ff, tt, Fbx = scipy.signal.spectrogram(bx, fs=fs, window=window, nperseg=nfft, noverlap=nfft*overlap,mode='complex')\n",
    "# should mode be complex only for cross spectra? \n",
    "\n",
    "# output will be 2048 points covering frequencies from 0 to fs/2 and -fs/2 to 0\n",
    "print(np.int32(FEx)) # check FFT output\n",
    "\n",
    "# energy is multiplied by 2 (for the negative half)"
   ]
  },
  {
   "cell_type": "code",
   "execution_count": null,
   "metadata": {},
   "outputs": [],
   "source": [
    "S_mag = np.sqrt(np.real(FEx*np.conj(FEx))) # dont need to take the real part here\n",
    "# no square root - squared magnitude [V^2/(m^2 Hz)]\n",
    "# check spectrogram function mode = complex (output units)\n",
    "# then multiply by 2 \n",
    "# output check "
   ]
  },
  {
   "cell_type": "code",
   "execution_count": null,
   "metadata": {},
   "outputs": [],
   "source": [
    "\n",
    "fname = 'fbins.txt'\n",
    "fbins = np.genfromtxt(fname, dtype='str')\n",
    "# bin and average -- bin same as the firmware will \n",
    "# accumulate 128 here and average "
   ]
  }
 ]
}